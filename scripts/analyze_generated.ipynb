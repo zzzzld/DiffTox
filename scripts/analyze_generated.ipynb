{
 "cells": [
  {
   "attachments": {},
   "cell_type": "markdown",
   "metadata": {},
   "source": [
    "# Evaluate metrics for different methods"
   ]
  },
  {
   "cell_type": "code",
   "execution_count": null,
   "metadata": {},
   "outputs": [],
   "source": [
    "import os\n",
    "import re\n",
    "\n",
    "import pandas as pd\n",
    "import numpy as np\n",
    "from rdkit import Chem\n",
    "import pickle\n",
    "import matplotlib.pyplot as plt\n",
    "import seaborn as sns"
   ]
  },
  {
   "attachments": {},
   "cell_type": "markdown",
   "metadata": {},
   "source": [
    "## Load data"
   ]
  },
  {
   "attachments": {},
   "cell_type": "markdown",
   "metadata": {},
   "source": [
    "Set params"
   ]
  },
  {
   "cell_type": "code",
   "execution_count": null,
   "metadata": {},
   "outputs": [],
   "source": [
    "# reference dataset\n",
    "ref = 'test'\n",
    "\n",
    "# dirs of sampling outputs of different methods\n",
    "generated_dict = {\n",
    "    'MolDiff': '../outputs/sample_MolDiff_20230101_0000',\n",
    "    'MolDiff_simple': '../outputs/sample_MolDiff_simple_20230101_0000',\n",
    "}\n",
    "\n",
    "# metric file of dataset\n",
    "df_path_dict = {\n",
    "    'test': '../data/geom_drug/metrics/test.csv',\n",
    "}"
   ]
  },
  {
   "attachments": {},
   "cell_type": "markdown",
   "metadata": {},
   "source": [
    "Preapare"
   ]
  },
  {
   "cell_type": "code",
   "execution_count": null,
   "metadata": {},
   "outputs": [],
   "source": [
    "for key, value in generated_dict.items():\n",
    "    df_path_dict[key] = os.path.join(value, 'mols.csv')\n",
    "df_path_dict"
   ]
  },
  {
   "cell_type": "code",
   "execution_count": null,
   "metadata": {},
   "outputs": [],
   "source": [
    "method_list = list(df_path_dict.keys())\n",
    "compare_list = list(generated_dict.keys())\n",
    "\n",
    "idx_ref = list(df_path_dict.keys()).index(ref)\n",
    "df_all = pd.DataFrame(index=method_list)\n",
    "\n",
    "print('Ref is', ref, 'idx', idx_ref)\n",
    "print('methods:', method_list)\n",
    "print('compare:', compare_list)"
   ]
  },
  {
   "attachments": {},
   "cell_type": "markdown",
   "metadata": {},
   "source": [
    "Load"
   ]
  },
  {
   "cell_type": "code",
   "execution_count": null,
   "metadata": {},
   "outputs": [],
   "source": [
    "# load df\n",
    "df_dict = {key:pd.read_csv(path, index_col=0) for key, path in df_path_dict.items()}\n",
    "\n",
    "# load local3d\n",
    "local3d_dict = {}\n",
    "for key, path in df_path_dict.items():\n",
    "    path = path.replace('.csv', '_local3d.pkl')\n",
    "    if os.path.exists(path):\n",
    "        with open(path, 'rb') as f:\n",
    "            local3d_dict[key] = pickle.load(f)\n",
    "    else:\n",
    "        print(f'No local3d for {key}')"
   ]
  },
  {
   "cell_type": "code",
   "execution_count": null,
   "metadata": {},
   "outputs": [],
   "source": [
    "print('dataframe shape:')\n",
    "for key, df in df_dict.items():\n",
    "    print(key, df.shape)"
   ]
  },
  {
   "attachments": {},
   "cell_type": "markdown",
   "metadata": {},
   "source": [
    "Define functions"
   ]
  },
  {
   "cell_type": "code",
   "execution_count": null,
   "metadata": {},
   "outputs": [],
   "source": [
    "from scipy.spatial.distance import jensenshannon\n",
    "def get_jsd(p, q):  # actually use js div instead of kld\n",
    "    return jensenshannon(p, q)"
   ]
  },
  {
   "cell_type": "code",
   "execution_count": null,
   "metadata": {},
   "outputs": [],
   "source": [
    "def compare_with_ref(value_list, width=None, num_bins=50, discrete=False):\n",
    "\n",
    "    # set distribution ranges\n",
    "    all_list = np.concatenate(value_list)\n",
    "    all_list = all_list[~np.isnan(all_list)]\n",
    "    all_list_sort = np.sort(all_list)\n",
    "    max_value = all_list_sort[-5]\n",
    "    min_value = all_list_sort[5]\n",
    "    if not discrete:\n",
    "        if width is not None:\n",
    "            bins = np.arange(min_value, max_value+width, width)\n",
    "        else:\n",
    "            bins = np.linspace(min_value, max_value, num_bins)\n",
    "    else:\n",
    "        bins = np.arange(min_value, max_value+1.5) - 0.5\n",
    "\n",
    "    # calculate distributions\n",
    "    hist_list = []\n",
    "    for metric_method in value_list:\n",
    "        hist, _ = np.histogram(metric_method, bins=bins, density=True)\n",
    "        hist = hist + 1e-10\n",
    "        hist = hist / hist.sum()\n",
    "        hist_list.append(hist)\n",
    "        \n",
    "    # calculate jsd\n",
    "    jsd_list = []\n",
    "    for i, hist in enumerate(hist_list):\n",
    "        jsd = get_jsd(hist_list[idx_ref], hist)\n",
    "        jsd_list.append(jsd)\n",
    "        \n",
    "    return (jsd_list, bins, hist_list)"
   ]
  },
  {
   "cell_type": "code",
   "execution_count": null,
   "metadata": {},
   "outputs": [],
   "source": [
    "from rdkit.Chem.Draw import IPythonConsole, MolsToGridImage\n",
    "from rdkit import Chem\n",
    "def show(x):\n",
    "    print(Chem.MolToSmiles(x))\n",
    "    IPythonConsole.drawMol3D(x)\n",
    "    return x\n",
    "\n",
    "def show_mols(mols):\n",
    "    mols2d = [Chem.MolFromSmiles(Chem.MolToSmiles(x)) for x in mols]\n",
    "    return Chem.Draw.MolsToGridImage(mols2d, molsPerRow=8, subImgSize=(250,200))"
   ]
  },
  {
   "attachments": {},
   "cell_type": "markdown",
   "metadata": {},
   "source": [
    "## Generation ability"
   ]
  },
  {
   "attachments": {},
   "cell_type": "markdown",
   "metadata": {},
   "source": [
    "validity, connectivity"
   ]
  },
  {
   "cell_type": "code",
   "execution_count": null,
   "metadata": {},
   "outputs": [],
   "source": [
    "metrics_list = ['validity', 'connectivity']\n",
    "df_metrics = pd.DataFrame(index=compare_list, columns=metrics_list)\n",
    "for method in compare_list:\n",
    "    path = df_path_dict[method].replace('.csv', '_validity.pkl')\n",
    "    if not os.path.exists(path):\n",
    "        print(f'No validity file for {method}')\n",
    "        continue\n",
    "    with open(path, 'rb') as f:\n",
    "        values = pickle.load(f)\n",
    "    df_metrics.loc[method] = values"
   ]
  },
  {
   "cell_type": "code",
   "execution_count": null,
   "metadata": {},
   "outputs": [],
   "source": [
    "df_metrics"
   ]
  },
  {
   "cell_type": "code",
   "execution_count": null,
   "metadata": {},
   "outputs": [],
   "source": [
    "df_all = pd.concat([df_all, df_metrics], axis=1)"
   ]
  },
  {
   "attachments": {},
   "cell_type": "markdown",
   "metadata": {},
   "source": [
    "novelty, uniqueness, diversity,"
   ]
  },
  {
   "cell_type": "code",
   "execution_count": null,
   "metadata": {},
   "outputs": [],
   "source": [
    "metrics_list = ['novelty', 'uniqueness', 'diversity', 'sim_with_val']\n",
    "df_metrics = pd.DataFrame(index=compare_list, columns=metrics_list)\n",
    "for method in compare_list:\n",
    "    path = df_path_dict[method].replace('.csv', '_similarity.pkl')\n",
    "    with open(path, 'rb') as f:\n",
    "        values = pickle.load(f)\n",
    "    df_metrics.loc[method] = values"
   ]
  },
  {
   "cell_type": "code",
   "execution_count": null,
   "metadata": {},
   "outputs": [],
   "source": [
    "df_metrics"
   ]
  },
  {
   "cell_type": "code",
   "execution_count": null,
   "metadata": {},
   "outputs": [],
   "source": [
    "df_all = pd.concat([df_all, df_metrics], axis=1)"
   ]
  },
  {
   "attachments": {},
   "cell_type": "markdown",
   "metadata": {},
   "source": [
    "## Drug-likeness properties"
   ]
  },
  {
   "attachments": {},
   "cell_type": "markdown",
   "metadata": {},
   "source": [
    "qed sa logp lipinski"
   ]
  },
  {
   "cell_type": "code",
   "execution_count": null,
   "metadata": {},
   "outputs": [],
   "source": [
    "metrics_list"
   ]
  },
  {
   "cell_type": "code",
   "execution_count": null,
   "metadata": {},
   "outputs": [],
   "source": [
    "metrics_list = ['qed', 'sa', 'logp', 'lipinski']\n",
    "\n",
    "df_value = pd.DataFrame(index=compare_list, columns=metrics_list)\n",
    "for method in compare_list:\n",
    "    for metric in metrics_list:\n",
    "        df_value.loc[method, metric] = df_dict[method][metric].mean()\n",
    "print('value mean')\n",
    "df_value"
   ]
  },
  {
   "cell_type": "code",
   "execution_count": null,
   "metadata": {},
   "outputs": [],
   "source": [
    "df_value.columns = ['mean_{}'.format(x) for x in df_value.columns]\n",
    "df_all = pd.concat([df_all, df_value], axis=1)"
   ]
  },
  {
   "attachments": {},
   "cell_type": "markdown",
   "metadata": {},
   "source": [
    "## Bonds"
   ]
  },
  {
   "attachments": {},
   "cell_type": "markdown",
   "metadata": {},
   "source": [
    "Distributions of bonds"
   ]
  },
  {
   "cell_type": "code",
   "execution_count": null,
   "metadata": {},
   "outputs": [],
   "source": [
    "metric = ['cnt_bond1', 'cnt_bond2', 'cnt_bond3', 'cnt_bond4']\n",
    "df_metrics = pd.DataFrame(index=method_list, columns=['dist_bond'])\n",
    "\n",
    "hist_list = []\n",
    "for method in method_list:\n",
    "    count = df_dict[method][metric].values.sum(axis=0) + 1e-10\n",
    "    hist_ = count / count.sum()\n",
    "    hist_list.append(hist_)\n",
    "bins = np.arange(len(metric)+1) - 0.5\n",
    "    \n",
    "jsd_list = []\n",
    "for hist_ in hist_list:\n",
    "    jsd = get_jsd(hist_, hist_list[idx_ref])\n",
    "    jsd_list.append(jsd)\n",
    "df_metrics['dist_bond'] = jsd_list\n",
    "print(['{}:{:.4f}'.format(key, value) for key, value in zip(method_list, jsd_list)])\n",
    "\n",
    "# plot\n",
    "plt.figure(figsize=(15, 5))\n",
    "\n",
    "n_hist = len(hist_list)\n",
    "bar_width = 1 / (n_hist+1)\n",
    "for i, hist_ in enumerate(hist_list):\n",
    "    # plt.plot(bins_center, hist_, label=method_list[i], marker='o')\n",
    "    plt.bar(bins[:-1]+bar_width*(i+1), hist_, label=method_list[i], width=bar_width)\n",
    "plt.legend()\n",
    "# plt.xtick_labels(metric)\n",
    "plt.show()\n"
   ]
  },
  {
   "cell_type": "code",
   "execution_count": null,
   "metadata": {},
   "outputs": [],
   "source": [
    "df_metrics"
   ]
  },
  {
   "cell_type": "code",
   "execution_count": null,
   "metadata": {},
   "outputs": [],
   "source": [
    "df_all = pd.concat([df_all, df_metrics], axis=1)"
   ]
  },
  {
   "attachments": {},
   "cell_type": "markdown",
   "metadata": {},
   "source": [
    "Count of bonds/atoms, rings"
   ]
  },
  {
   "cell_type": "code",
   "execution_count": null,
   "metadata": {},
   "outputs": [],
   "source": [
    "metrics_list = ['n_rings', 'n_bonds_per_atom']\n",
    "\n",
    "df_metrics = pd.DataFrame(index=method_list, columns=metrics_list)\n",
    "for metric in metrics_list:\n",
    "    # set width and discrete\n",
    "    width = 0.5 \n",
    "    discrete = True \n",
    "    \n",
    "    # get jsd\n",
    "    if 'per' not in metric:\n",
    "        values_list = [df[metric].values for df in df_dict.values()]\n",
    "    else:\n",
    "        width = 0.01\n",
    "        discrete = False\n",
    "        m1 = 'n_' + metric.split('_')[1]\n",
    "        m2 = 'n_' + metric.split('_')[-1] + 's'\n",
    "        values_list = [df[m1].values / df[m2].values for df in df_dict.values()]\n",
    "    jsd_list, bins, hist_list = compare_with_ref(values_list, width=width,\n",
    "                                                 discrete=discrete)\n",
    "    df_metrics[metric] = jsd_list\n",
    "    print(['{}:{:.4f}'.format(key, value) for key, value in zip(method_list, jsd_list)])\n",
    "    print('num bins', len(bins), 'width', bins[1]-bins[0])\n",
    "\n",
    "    # plot\n",
    "    plt.figure(figsize=(10, 5))\n",
    "    for i, hist_ in enumerate(hist_list):\n",
    "        bins_center = (bins[:-1] + bins[1:]) / 2\n",
    "        if not discrete:\n",
    "            plt.plot(bins_center, hist_, label=method_list[i])\n",
    "        else:\n",
    "            n_hist = len(hist_list)\n",
    "            bar_width = 1 / (n_hist+1)\n",
    "            # plt.plot(bins_center, hist_, label=method_list[i], marker='o')\n",
    "            plt.bar(bins[:-1]+bar_width*(i+1), hist_, label=method_list[i], width=bar_width)\n",
    "    plt.legend()\n",
    "    plt.title(metric)\n",
    "    plt.show()\n"
   ]
  },
  {
   "cell_type": "code",
   "execution_count": null,
   "metadata": {},
   "outputs": [],
   "source": [
    "df_metrics"
   ]
  },
  {
   "cell_type": "code",
   "execution_count": null,
   "metadata": {},
   "outputs": [],
   "source": [
    "df_all = pd.concat([df_all, df_metrics], axis=1)"
   ]
  },
  {
   "attachments": {},
   "cell_type": "markdown",
   "metadata": {},
   "source": [
    "## 3D structure"
   ]
  },
  {
   "attachments": {},
   "cell_type": "markdown",
   "metadata": {},
   "source": [
    "global rmsd"
   ]
  },
  {
   "cell_type": "code",
   "execution_count": null,
   "metadata": {},
   "outputs": [],
   "source": [
    "metrics_list = ['rmsd_min']\n",
    "\n",
    "df_values = pd.DataFrame(index=method_list, columns=metrics_list)\n",
    "for metric in metrics_list:\n",
    "    for method in method_list:\n",
    "        df_values.loc[method, metric] = df_dict[method][metric].mean()\n",
    "print('value mean')\n",
    "df_values"
   ]
  },
  {
   "cell_type": "code",
   "execution_count": null,
   "metadata": {},
   "outputs": [],
   "source": [
    "df_values.columns = ['mean_{}'.format(x) for x in df_values.columns]\n",
    "df_all = pd.concat([df_all, df_values], axis=1)"
   ]
  },
  {
   "attachments": {},
   "cell_type": "markdown",
   "metadata": {},
   "source": [
    "local 3D: bond lengths"
   ]
  },
  {
   "cell_type": "code",
   "execution_count": null,
   "metadata": {},
   "outputs": [],
   "source": [
    "# bond lengths\n",
    "metric_base = 'lengths'\n",
    "metrics_list = list(local3d_dict[ref][metric_base].keys())\n",
    "print(metric_base, ':', metrics_list, '\\n')\n",
    "\n",
    "df_metrics = pd.DataFrame(index=method_list, columns=metrics_list)\n",
    "for metric in metrics_list:\n",
    "    # set width and discrete\n",
    "    width = 0.02\n",
    "    discrete = False\n",
    "    \n",
    "    # get jsd\n",
    "    values_list = [local3d_dict[key][metric_base][metric] for key in method_list]\n",
    "    jsd_list, bins, hist_list = compare_with_ref(values_list, width=width,\n",
    "                                                 discrete=discrete)\n",
    "    df_metrics[metric] = jsd_list\n",
    "    print('num bins', len(bins), 'width', bins[1]-bins[0])\n",
    "    print('num values', [len(values) for values in values_list])\n",
    "    print(['{}:{:.4f}'.format(key, value) for key, value in zip(method_list, jsd_list)])\n",
    "\n",
    "    # plot\n",
    "    plt.figure(figsize=(10, 5))\n",
    "    for i, hist_ in enumerate(hist_list):\n",
    "        bins_center = (bins[:-1] + bins[1:]) / 2\n",
    "        if not discrete:\n",
    "            plt.plot(bins_center, hist_, label=method_list[i])\n",
    "        else:\n",
    "            # plt.plot(bins_center, hist_, label=method_list[i], marker='o')\n",
    "            plt.bar(bins_center, hist_, label=method_list[i], )\n",
    "    plt.legend()\n",
    "    plt.title(metric)\n",
    "    plt.show()\n"
   ]
  },
  {
   "cell_type": "code",
   "execution_count": null,
   "metadata": {},
   "outputs": [],
   "source": [
    "df_metrics"
   ]
  },
  {
   "cell_type": "code",
   "execution_count": null,
   "metadata": {},
   "outputs": [],
   "source": [
    "df_all = pd.concat([df_all, df_metrics], axis=1)"
   ]
  },
  {
   "cell_type": "code",
   "execution_count": null,
   "metadata": {},
   "outputs": [],
   "source": [
    "df_mean = df_metrics.mean(1).to_frame(name='length_jsd_mean')\n",
    "df_mean"
   ]
  },
  {
   "cell_type": "code",
   "execution_count": null,
   "metadata": {},
   "outputs": [],
   "source": [
    "df_all = pd.concat([df_all, df_mean], axis=1)"
   ]
  },
  {
   "attachments": {},
   "cell_type": "markdown",
   "metadata": {},
   "source": [
    "BTW: JS. of frequent bond types"
   ]
  },
  {
   "cell_type": "code",
   "execution_count": null,
   "metadata": {},
   "outputs": [],
   "source": [
    "metric_base = 'lengths'\n",
    "\n",
    "# get jsd\n",
    "values_list = [np.array([len(local3d_dict[key][metric_base][metric]) + 1e-10 for metric in metrics_list]) for key in method_list]\n",
    "hist_list = [val/np.sum(val) for val in values_list]\n",
    "jsd_list = [get_jsd(hist_list[idx_ref], hist) for hist in hist_list]\n",
    "\n",
    "print(['{}:{:.4f}'.format(key, value) for key, value in zip(method_list, jsd_list)])\n",
    "\n",
    "# plot\n",
    "bins = np.arange(len(metrics_list)+1)\n",
    "plt.figure(figsize=(10, 5))\n",
    "for i, hist_ in enumerate(hist_list):\n",
    "    n_hist = len(hist_list)\n",
    "    bar_width = 1 / (n_hist+1)\n",
    "    plt.bar(bins[:-1]+bar_width*(i+1), hist_, label=method_list[i], width=bar_width)\n",
    "plt.legend()\n",
    "plt.title(metric_base)\n",
    "plt.show()\n",
    "df_metric = pd.DataFrame(jsd_list, index=method_list, columns=['js_bond_type'])\n",
    "df_metric"
   ]
  },
  {
   "cell_type": "code",
   "execution_count": null,
   "metadata": {},
   "outputs": [],
   "source": [
    "df_all = pd.concat([df_all, df_metric], axis=1)"
   ]
  },
  {
   "attachments": {},
   "cell_type": "markdown",
   "metadata": {},
   "source": [
    "local 3D: bond angles"
   ]
  },
  {
   "cell_type": "code",
   "execution_count": null,
   "metadata": {},
   "outputs": [],
   "source": [
    "metric_base = 'angles'\n",
    "metrics_list = list(local3d_dict[ref][metric_base].keys())\n",
    "print(metric_base, ':', metrics_list, '\\n')\n",
    "\n",
    "df_metrics = pd.DataFrame(index=method_list, columns=metrics_list)\n",
    "for metric in metrics_list:\n",
    "    # set width and discrete\n",
    "    width = 5\n",
    "    discrete = False\n",
    "    \n",
    "    # get jsd\n",
    "    values_list = [local3d_dict[key][metric_base][metric] for key in method_list]\n",
    "    jsd_list, bins, hist_list = compare_with_ref(values_list, width=width,\n",
    "                                                 discrete=discrete)\n",
    "    df_metrics[metric] = jsd_list\n",
    "    print('num bins', len(bins), 'width', bins[1]-bins[0])\n",
    "    print('num values', [len(values) for values in values_list])\n",
    "    print(['{}:{:.4f}'.format(key, value) for key, value in zip(method_list, jsd_list)])\n",
    "\n",
    "    # plot\n",
    "    plt.figure(figsize=(10, 5))\n",
    "    for i, hist_ in enumerate(hist_list):\n",
    "        bins_center = (bins[:-1] + bins[1:]) / 2\n",
    "        if not discrete:\n",
    "            plt.plot(bins_center, hist_, label=method_list[i])\n",
    "        else:\n",
    "            # plt.plot(bins_center, hist_, label=method_list[i], marker='o')\n",
    "            plt.bar(bins_center, hist_, label=method_list[i], )\n",
    "    plt.legend()\n",
    "    plt.title(metric)\n",
    "    plt.show()\n"
   ]
  },
  {
   "cell_type": "code",
   "execution_count": null,
   "metadata": {},
   "outputs": [],
   "source": [
    "df_metrics"
   ]
  },
  {
   "cell_type": "code",
   "execution_count": null,
   "metadata": {},
   "outputs": [],
   "source": [
    "df_all = pd.concat([df_all, df_metrics], axis=1)"
   ]
  },
  {
   "cell_type": "code",
   "execution_count": null,
   "metadata": {},
   "outputs": [],
   "source": [
    "df_mean = df_metrics.mean(1).to_frame(name='angle_jsd_mean')\n",
    "df_mean"
   ]
  },
  {
   "cell_type": "code",
   "execution_count": null,
   "metadata": {},
   "outputs": [],
   "source": [
    "df_all = pd.concat([df_all, df_mean], axis=1)"
   ]
  },
  {
   "attachments": {},
   "cell_type": "markdown",
   "metadata": {},
   "source": [
    "BTW: JS. of frequent bond pairs"
   ]
  },
  {
   "cell_type": "code",
   "execution_count": null,
   "metadata": {},
   "outputs": [],
   "source": [
    "metric_base = 'angles'\n",
    "\n",
    "# get jsd\n",
    "values_list = [np.array([len(local3d_dict[key][metric_base][metric]) + 1e-10 for metric in metrics_list]) for key in method_list]\n",
    "hist_list = [val/np.sum(val) for val in values_list]\n",
    "jsd_list = [get_jsd(hist_list[idx_ref], hist) for hist in hist_list]\n",
    "\n",
    "print(['{}:{:.4f}'.format(key, value) for key, value in zip(method_list, jsd_list)])\n",
    "\n",
    "# plot\n",
    "bins = np.arange(len(metrics_list)+1)\n",
    "plt.figure(figsize=(10, 5))\n",
    "for i, hist_ in enumerate(hist_list):\n",
    "    n_hist = len(hist_list)\n",
    "    bar_width = 1 / (n_hist+1)\n",
    "    plt.bar(bins[:-1]+bar_width*(i+1), hist_, label=method_list[i], width=bar_width)\n",
    "plt.legend()\n",
    "plt.title(metric_base)\n",
    "plt.show()\n",
    "df_metric = pd.DataFrame(jsd_list, index=method_list, columns=['JS_bond_pair'])\n",
    "df_metric"
   ]
  },
  {
   "cell_type": "code",
   "execution_count": null,
   "metadata": {},
   "outputs": [],
   "source": [
    "df_all = pd.concat([df_all, df_metric], axis=1)"
   ]
  },
  {
   "attachments": {},
   "cell_type": "markdown",
   "metadata": {},
   "source": [
    "local 3D: dihedral angles"
   ]
  },
  {
   "cell_type": "code",
   "execution_count": null,
   "metadata": {},
   "outputs": [],
   "source": [
    "# dihedral angels\n",
    "metric_base = 'dihedral'\n",
    "metrics_list = list(local3d_dict[ref][metric_base].keys())\n",
    "print(metric_base, ':', metrics_list, '\\n')\n",
    "\n",
    "df_metrics = pd.DataFrame(index=method_list, columns=metrics_list)\n",
    "for metric in metrics_list:\n",
    "    # set width and discrete\n",
    "    width = 5\n",
    "    discrete = False\n",
    "    \n",
    "    # get jsd\n",
    "    values_list = [local3d_dict[key][metric_base][metric] for key in method_list]\n",
    "    jsd_list, bins, hist_list = compare_with_ref(values_list, width=width,\n",
    "                                                 discrete=discrete)\n",
    "    df_metrics[metric] = jsd_list\n",
    "    print('num bins', len(bins), 'width', bins[1]-bins[0])\n",
    "    print('num values', [len(values) for values in values_list])\n",
    "    print(['{}:{:.4f}'.format(key, value) for key, value in zip(method_list, jsd_list)])\n",
    "\n",
    "    # plot\n",
    "    plt.figure(figsize=(10, 5))\n",
    "    for i, hist_ in enumerate(hist_list):\n",
    "        bins_center = (bins[:-1] + bins[1:]) / 2\n",
    "        if not discrete:\n",
    "            plt.plot(bins_center, hist_, label=method_list[i])\n",
    "        else:\n",
    "            # plt.plot(bins_center, hist_, label=method_list[i], marker='o')\n",
    "            plt.bar(bins_center, hist_, label=method_list[i], )\n",
    "    plt.legend()\n",
    "    plt.title(metric)\n",
    "    plt.show()\n"
   ]
  },
  {
   "cell_type": "code",
   "execution_count": null,
   "metadata": {},
   "outputs": [],
   "source": [
    "df_metrics"
   ]
  },
  {
   "cell_type": "code",
   "execution_count": null,
   "metadata": {},
   "outputs": [],
   "source": [
    "df_all = pd.concat([df_all, df_metrics], axis=1)"
   ]
  },
  {
   "cell_type": "code",
   "execution_count": null,
   "metadata": {},
   "outputs": [],
   "source": [
    "df_mean = df_metrics.mean(1).to_frame(name='dihedral_jsd_mean')\n",
    "df_mean"
   ]
  },
  {
   "cell_type": "code",
   "execution_count": null,
   "metadata": {},
   "outputs": [],
   "source": [
    "df_all = pd.concat([df_all, df_mean], axis=1)"
   ]
  },
  {
   "cell_type": "code",
   "execution_count": null,
   "metadata": {},
   "outputs": [],
   "source": []
  },
  {
   "attachments": {},
   "cell_type": "markdown",
   "metadata": {},
   "source": [
    "BTW: JS. of frequent bond triplets"
   ]
  },
  {
   "cell_type": "code",
   "execution_count": null,
   "metadata": {},
   "outputs": [],
   "source": [
    "metric_base = 'dihedral'\n",
    "\n",
    "# get jsd\n",
    "values_list = [np.array([len(local3d_dict[key][metric_base][metric]) + 1e-10 for metric in metrics_list]) for key in method_list]\n",
    "hist_list = [val/np.sum(val) for val in values_list]\n",
    "jsd_list = [get_jsd(hist_list[idx_ref], hist) for hist in hist_list]\n",
    "\n",
    "print(['{}:{:.4f}'.format(key, value) for key, value in zip(method_list, jsd_list)])\n",
    "\n",
    "# plot\n",
    "bins = np.arange(len(metrics_list)+1)\n",
    "plt.figure(figsize=(10, 5))\n",
    "for i, hist_ in enumerate(hist_list):\n",
    "    n_hist = len(hist_list)\n",
    "    bar_width = 1 / (n_hist+1)\n",
    "    plt.bar(bins[:-1]+bar_width*(i+1), hist_, label=method_list[i], width=bar_width)\n",
    "plt.legend()\n",
    "plt.title(metric_base)\n",
    "plt.show()\n",
    "df_metric = pd.DataFrame(jsd_list, index=method_list, columns=['JS_bond_triplet'])\n",
    "df_metric"
   ]
  },
  {
   "cell_type": "code",
   "execution_count": null,
   "metadata": {},
   "outputs": [],
   "source": [
    "df_all = pd.concat([df_all, df_metric], axis=1)"
   ]
  },
  {
   "cell_type": "code",
   "execution_count": null,
   "metadata": {},
   "outputs": [],
   "source": []
  },
  {
   "attachments": {},
   "cell_type": "markdown",
   "metadata": {},
   "source": [
    "## Rings"
   ]
  },
  {
   "attachments": {},
   "cell_type": "markdown",
   "metadata": {},
   "source": [
    "counts of n-sized rings"
   ]
  },
  {
   "cell_type": "code",
   "execution_count": null,
   "metadata": {},
   "outputs": [],
   "source": [
    "metrics_list = [f'cnt_ring{i}' for i in range(3, 10)]\n",
    "df_metrics = pd.DataFrame(index=method_list, columns=metrics_list)\n",
    "for metric in metrics_list:\n",
    "    # set width and discrete\n",
    "    width = 0.01\n",
    "    discrete = True\n",
    "    \n",
    "    # get jsd\n",
    "    jsd_list, bins, hist_list = compare_with_ref([df[metric].values for df in df_dict.values()], width=width,\n",
    "                                                 discrete=discrete)\n",
    "    df_metrics[metric] = jsd_list\n",
    "    print(['{}:{:.4f}'.format(key, value) for key, value in zip(method_list, jsd_list)])\n",
    "    print('num bins', len(bins), 'width', bins[1]-bins[0])\n",
    "\n",
    "    # plot\n",
    "    plt.figure(figsize=(10, 5))\n",
    "    for i, hist_ in enumerate(hist_list):\n",
    "        bins_center = (bins[:-1] + bins[1:]) / 2\n",
    "        if not discrete:\n",
    "            plt.plot(bins_center, hist_, label=method_list[i])\n",
    "        else:\n",
    "            n_hist = len(hist_list)\n",
    "            bar_width = 1 / (n_hist+1)\n",
    "            # plt.plot(bins_center, hist_, label=method_list[i], marker='o')\n",
    "            plt.bar(bins[:-1]+bar_width*(i+1), hist_, label=method_list[i], width=bar_width)\n",
    "    plt.legend()\n",
    "    plt.title(metric)\n",
    "    plt.show()\n"
   ]
  },
  {
   "cell_type": "code",
   "execution_count": null,
   "metadata": {},
   "outputs": [],
   "source": [
    "df_metrics"
   ]
  },
  {
   "cell_type": "code",
   "execution_count": null,
   "metadata": {},
   "outputs": [],
   "source": [
    "df_all = pd.concat([df_all, df_metrics], axis=1)"
   ]
  },
  {
   "cell_type": "code",
   "execution_count": null,
   "metadata": {},
   "outputs": [],
   "source": [
    "df_mean =  df_metrics.mean(1).to_frame('cnt_ringn_mean')\n",
    "df_mean"
   ]
  },
  {
   "cell_type": "code",
   "execution_count": null,
   "metadata": {},
   "outputs": [],
   "source": [
    "df_all = pd.concat([df_all, df_mean], axis=1)"
   ]
  },
  {
   "attachments": {},
   "cell_type": "markdown",
   "metadata": {},
   "source": [
    "Freq ring"
   ]
  },
  {
   "cell_type": "code",
   "execution_count": null,
   "metadata": {},
   "outputs": [],
   "source": [
    "freq_list = []\n",
    "for method in method_list:\n",
    "    path = df_path_dict[method].replace('.csv', '_freq_ring_type.pkl')\n",
    "    with open(path, 'rb') as f:\n",
    "        freq_ring_type = pickle.load(f)\n",
    "    freq_list.append(freq_ring_type)"
   ]
  },
  {
   "cell_type": "code",
   "execution_count": null,
   "metadata": {},
   "outputs": [],
   "source": [
    "len(freq_list)"
   ]
  },
  {
   "cell_type": "code",
   "execution_count": null,
   "metadata": {},
   "outputs": [],
   "source": [
    "# interact set with ref for the top 10 ring types\n",
    "ref_rings = freq_list[idx_ref]['freq_rings']\n",
    "df_inter = pd.DataFrame(index=method_list, columns=['intersect_ring_types'])\n",
    "for i, rings in enumerate(freq_list):\n",
    "    inter = len(np.intersect1d(rings['freq_rings'], ref_rings))\n",
    "    df_inter.loc[method_list[i], 'intersect_ring_types'] = inter"
   ]
  },
  {
   "cell_type": "code",
   "execution_count": null,
   "metadata": {},
   "outputs": [],
   "source": [
    "df_inter"
   ]
  },
  {
   "cell_type": "code",
   "execution_count": null,
   "metadata": {},
   "outputs": [],
   "source": [
    "df_all = pd.concat([df_all, df_inter], axis=1)"
   ]
  },
  {
   "cell_type": "code",
   "execution_count": null,
   "metadata": {},
   "outputs": [],
   "source": [
    "ring_list_flat = [ring for freq_ring in freq_list for ring in freq_ring['freq_rings']]\n",
    "count_list_flat = [count for freq_ring in freq_list for count in freq_ring['counts']]\n",
    "legends = [str(freq) if i % 10 != 0 else method_list[i//10] + '_' + str(freq) for i, freq in enumerate(count_list_flat)]\n",
    "Chem.Draw.MolsToGridImage([Chem.MolFromSmiles(ring) for ring in ring_list_flat],\n",
    "                          molsPerRow=10, subImgSize=(250,200), legends=legends, maxMols=200)\n"
   ]
  },
  {
   "cell_type": "code",
   "execution_count": null,
   "metadata": {},
   "outputs": [],
   "source": []
  },
  {
   "attachments": {},
   "cell_type": "markdown",
   "metadata": {},
   "source": [
    "## Save results"
   ]
  },
  {
   "cell_type": "code",
   "execution_count": null,
   "metadata": {},
   "outputs": [],
   "source": [
    "df_all"
   ]
  },
  {
   "cell_type": "code",
   "execution_count": null,
   "metadata": {},
   "outputs": [],
   "source": [
    "df_all.to_csv(f'../outputs/metics_all_methods.csv')"
   ]
  },
  {
   "cell_type": "code",
   "execution_count": null,
   "metadata": {},
   "outputs": [],
   "source": []
  }
 ],
 "metadata": {
  "kernelspec": {
   "display_name": "mol",
   "language": "python",
   "name": "python3"
  },
  "language_info": {
   "codemirror_mode": {
    "name": "ipython",
    "version": 3
   },
   "file_extension": ".py",
   "mimetype": "text/x-python",
   "name": "python",
   "nbconvert_exporter": "python",
   "pygments_lexer": "ipython3",
   "version": "3.8.13"
  },
  "orig_nbformat": 4,
  "vscode": {
   "interpreter": {
    "hash": "e209ce706cf8f4a026d191e08e1138e53b70f0a1478ddee41c2965f95a7dfc7b"
   }
  }
 },
 "nbformat": 4,
 "nbformat_minor": 2
}
